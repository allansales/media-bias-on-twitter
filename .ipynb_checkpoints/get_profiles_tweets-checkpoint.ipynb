{
 "cells": [
  {
   "cell_type": "code",
   "execution_count": 1,
   "metadata": {
    "collapsed": true
   },
   "outputs": [],
   "source": [
    "ACCESS_TOKEN = '52216319-qSjhJPDWjylRdlrRGhlritVLTFoqSLtf0Y8BW30lI'\n",
    "ACCESS_TOKEN_SECRET = 'YrXoL6kQu1Zw8tOpkobABkkl9KoxSevnzs8QEzQMNCN2I'\n",
    "CONSUMER_KEY = 'M0gVC8dGOqd3kzYBS2d0vrmog'\n",
    "CONSUMER_SECRET = 'gSGp4ngevPZcdXBBSTM4HVnp974n5pSgqmDdOWIOTtyn2WbHS2'"
   ]
  },
  {
   "cell_type": "code",
   "execution_count": 34,
   "metadata": {
    "collapsed": false
   },
   "outputs": [],
   "source": [
    "# authenticate user\n",
    "import tweepy\n",
    "\n",
    "auth = tweepy.OAuthHandler(CONSUMER_KEY, CONSUMER_SECRET)\n",
    "auth.set_access_token(ACCESS_TOKEN, ACCESS_TOKEN_SECRET)\n",
    "\n",
    "api = tweepy.API(auth, wait_on_rate_limit=True)"
   ]
  },
  {
   "cell_type": "code",
   "execution_count": 35,
   "metadata": {
    "collapsed": false
   },
   "outputs": [],
   "source": [
    "import pandas as pd\n",
    "\n",
    "def toDataFrame(tweet, orientation):\n",
    "\n",
    "    DataSet = pd.DataFrame()\n",
    "    \n",
    "    DataSet['id'] = [tweet.id]\n",
    "    DataSet['text'] = [tweet.full_text]\n",
    "    DataSet['n_retweet'] = [tweet.retweet_count]\n",
    "    DataSet['n_favorite'] = [tweet.favorite_count]\n",
    "    DataSet['tweetCreated'] = [tweet.created_at]\n",
    "\n",
    "    DataSet['userID'] = [tweet.user.id]\n",
    "    DataSet['userScreen'] = [tweet.user.screen_name]\n",
    "    DataSet['userName'] = [tweet.user.name]\n",
    "    DataSet['userFollowerCt'] = [tweet.user.followers_count]\n",
    "    DataSet['userLocation'] = [tweet.user.location]\n",
    "    DataSet['userTimezone'] = [tweet.user.time_zone]\n",
    "    DataSet['userOrientation'] = [orientation]\n",
    "\n",
    "    return DataSet"
   ]
  },
  {
   "cell_type": "code",
   "execution_count": 36,
   "metadata": {
    "collapsed": true
   },
   "outputs": [],
   "source": [
    "profiles_list = {'left':[\"Haddad_Fernando\",\"ptbrasil\",\"psol50\",\"pstu\",\"PCdoB_Oficial\",\"ManuelaDavila\",\"cirogomes\",\"GuilhermeBoulos\",\"pablovillaca\",\"marcelorubens\",\"blogdosakamoto\",\"Srta_Iozzi\",\"QuebrandoOTabu\",\"luizguiprado\",\"comunacritico\",\"cartacapital\"],\n",
    "                 'right':[\"jairbolsonaro\",\"PSL_Nacional\",\"partidonovo30\",\"joaoamoedonovo\",\"alvarodias_\",\"VillaMarcovilla\",\"kimpkat\",\"BolsonaroSP\",\"LorenzonItalo\",\"leandroruschel\",\"BlogDoPim\",\"lobaoeletrico\",\"roxmo\",\"joicehasselmann\",\"FlavioBolsonaro\",\"conservadordc\"], \n",
    "                 'target':[\"g1politica\",\"g1economia\",\"EstadaoEconomia\",\"EstadaoPolitica\",\"OGloboPolitica\",\"OGlobo_Economia\",\"folha\"]}\n",
    "\n",
    "tweets_profiles = {}"
   ]
  },
  {
   "cell_type": "code",
   "execution_count": 37,
   "metadata": {
    "collapsed": false,
    "scrolled": true
   },
   "outputs": [
    {
     "name": "stdout",
     "output_type": "stream",
     "text": [
      "('right', 'jairbolsonaro')\n",
      "('right', 'PSL_Nacional')\n",
      "('right', 'partidonovo30')\n",
      "('right', 'joaoamoedonovo')\n",
      "('right', 'alvarodias_')\n",
      "('right', 'VillaMarcovilla')\n",
      "('right', 'kimpkat')\n",
      "('right', 'BolsonaroSP')\n",
      "('right', 'LorenzonItalo')\n",
      "('right', 'leandroruschel')\n",
      "('right', 'BlogDoPim')\n",
      "('right', 'lobaoeletrico')\n",
      "('right', 'roxmo')\n",
      "('right', 'joicehasselmann')\n",
      "('right', 'FlavioBolsonaro')\n",
      "('target', 'g1politica')\n",
      "('target', 'g1economia')\n",
      "('target', 'EstadaoEconomia')\n",
      "('target', 'EstadaoPolitica')\n",
      "('target', 'OGloboPolitica')\n",
      "('target', 'OGlobo_Economia')\n",
      "('target', 'folha')\n",
      "('target', 'cartacapital')\n",
      "('target', 'conservadordc')\n",
      "('left', 'Haddad_Fernando')\n",
      "('left', 'ptbrasil')\n",
      "('left', 'psol50')\n",
      "('left', 'pstu')\n",
      "('left', 'PCdoB_Oficial')\n",
      "('left', 'ManuelaDavila')\n",
      "('left', 'cirogomes')\n",
      "('left', 'GuilhermeBoulos')\n",
      "('left', 'pablovillaca')\n",
      "('left', 'marcelorubens')\n",
      "('left', 'blogdosakamoto')\n",
      "('left', 'Srta_Iozzi')\n",
      "('left', 'QuebrandoOTabu')\n",
      "('left', 'luizguiprado')\n",
      "('left', 'comunacritico')\n"
     ]
    }
   ],
   "source": [
    "orientations = profiles_list.keys()\n",
    "\n",
    "# get orientations list\n",
    "for orientation in orientations:\n",
    "    profiles = profiles_list.get(orientation)\n",
    "    #get profile for each orientation\n",
    "    for profile in profiles:\n",
    "        print(orientation, profile)\n",
    "        #get tweets for each profile\n",
    "        profile_tweets = pd.DataFrame()\n",
    "        for tweets in tweepy.Cursor(api.user_timeline, id=profile, tweet_mode=\"extended\").items(3200):\n",
    "            clean_tweets = toDataFrame(tweets, orientation)\n",
    "            profile_tweets = profile_tweets.append(clean_tweets)\n",
    "        # add tweets to dict\n",
    "        tweets_profiles.update({profile : profile_tweets})"
   ]
  },
  {
   "cell_type": "code",
   "execution_count": 38,
   "metadata": {
    "collapsed": false
   },
   "outputs": [],
   "source": [
    "tweets = pd.concat(tweets_profiles.values())"
   ]
  },
  {
   "cell_type": "code",
   "execution_count": 41,
   "metadata": {
    "collapsed": false,
    "scrolled": true
   },
   "outputs": [],
   "source": [
    "tweets.to_csv(\"data/tweets.csv\", index=False, encoding=\"utf-8\")"
   ]
  },
  {
   "cell_type": "code",
   "execution_count": null,
   "metadata": {
    "collapsed": true
   },
   "outputs": [],
   "source": []
  }
 ],
 "metadata": {
  "kernelspec": {
   "display_name": "Python 3",
   "language": "python",
   "name": "python3"
  },
  "language_info": {
   "codemirror_mode": {
    "name": "ipython",
    "version": 2
   },
   "file_extension": ".py",
   "mimetype": "text/x-python",
   "name": "python",
   "nbconvert_exporter": "python",
   "pygments_lexer": "ipython2",
   "version": "2.7.15"
  }
 },
 "nbformat": 4,
 "nbformat_minor": 1
}
