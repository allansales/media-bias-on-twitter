{
 "cells": [
  {
   "cell_type": "markdown",
   "metadata": {},
   "source": [
    "### Import data"
   ]
  },
  {
   "cell_type": "code",
   "execution_count": 1,
   "metadata": {
    "collapsed": false
   },
   "outputs": [
    {
     "name": "stderr",
     "output_type": "stream",
     "text": [
      "/home/allan/anaconda2/lib/python2.7/site-packages/IPython/core/interactiveshell.py:2717: DtypeWarning: Columns (3,8,10) have mixed types. Specify dtype option on import or set low_memory=False.\n",
      "  interactivity=interactivity, compiler=compiler, result=result)\n"
     ]
    }
   ],
   "source": [
    "import pandas as pd\n",
    "\n",
    "tweets = pd.read_csv('data/tweets.csv', encoding=\"UTF-8\")"
   ]
  },
  {
   "cell_type": "markdown",
   "metadata": {},
   "source": [
    "### Remove undesirable values\n"
   ]
  },
  {
   "cell_type": "code",
   "execution_count": 2,
   "metadata": {
    "collapsed": false
   },
   "outputs": [],
   "source": [
    "import math\n",
    "\n",
    "tweets = tweets[tweets.userOrientation.isin([\"target\", \"left\", \"right\"])]"
   ]
  },
  {
   "cell_type": "code",
   "execution_count": 3,
   "metadata": {
    "collapsed": false
   },
   "outputs": [],
   "source": [
    "target_tweets = tweets[tweets.userOrientation == \"target\"]\n",
    "tweets = tweets[tweets.userOrientation != \"target\"]"
   ]
  },
  {
   "cell_type": "markdown",
   "metadata": {},
   "source": [
    "### Text Preprocessing"
   ]
  },
  {
   "cell_type": "code",
   "execution_count": 4,
   "metadata": {
    "collapsed": false
   },
   "outputs": [],
   "source": [
    "text = tweets.text.str.lower()"
   ]
  },
  {
   "cell_type": "code",
   "execution_count": 5,
   "metadata": {
    "collapsed": false,
    "scrolled": true
   },
   "outputs": [],
   "source": [
    "from nltk.tokenize import TweetTokenizer\n",
    "tokenizer = TweetTokenizer()\n",
    "\n",
    "lists_tokens = text.apply(tokenizer.tokenize)"
   ]
  },
  {
   "cell_type": "code",
   "execution_count": 6,
   "metadata": {
    "collapsed": false
   },
   "outputs": [],
   "source": [
    "from nltk.stem import WordNetLemmatizer\n",
    "lemmatizer = WordNetLemmatizer()\n",
    "\n",
    "lemmatized_lists = list()\n",
    "for list_tokens in lists_tokens:\n",
    "    words_lemma = [lemmatizer.lemmatize(token) for token in list_tokens]\n",
    "    lemmatized_lists.append(words_lemma)\n",
    "    \n",
    "lemmatized_series = pd.Series(lemmatized_lists)"
   ]
  },
  {
   "cell_type": "code",
   "execution_count": 7,
   "metadata": {
    "collapsed": false,
    "scrolled": true
   },
   "outputs": [],
   "source": [
    "from nltk import ngrams\n",
    "\n",
    "def get_ngrams(ngram_size, to_extend):\n",
    "    \n",
    "    ngrams_list = to_extend.apply(ngrams, args=(ngram_size,))\n",
    "    new_n_list = []\n",
    "    for grams in ngrams_list:\n",
    "        tuple_gram = [gram for gram in grams]\n",
    "        string_tuple = ['_'.join(n_tuple) for n_tuple in tuple_gram]\n",
    "        new_n_list.append(string_tuple)\n",
    "    return new_n_list\n",
    "\n",
    "bigrams = get_ngrams(2, lemmatized_series)\n",
    "trigrams = get_ngrams(3, lemmatized_series)"
   ]
  },
  {
   "cell_type": "code",
   "execution_count": 13,
   "metadata": {
    "collapsed": false
   },
   "outputs": [],
   "source": [
    "def list_extend(lst, item):\n",
    "    lst.extend(item)\n",
    "    return lst\n",
    "\n",
    "lemmatized_series = [list_extend(lemma, bigram) for lemma, bigram in zip(lemmatized_series, bigrams)]\n",
    "lemmatized_series = [list_extend(lemma, trigram) for lemma, trigram in zip(lemmatized_series, trigrams)]"
   ]
  },
  {
   "cell_type": "code",
   "execution_count": 14,
   "metadata": {
    "collapsed": true
   },
   "outputs": [],
   "source": [
    "def get_phrases_from_list(list_of_lists):\n",
    "    phrase_list = [' '.join(list_of_words) for list_of_words in list_of_lists]\n",
    "    return phrase_list\n",
    "\n",
    "rebuid_tweets = get_phrases_from_list(lemmatized_series)"
   ]
  },
  {
   "cell_type": "code",
   "execution_count": 15,
   "metadata": {
    "collapsed": true
   },
   "outputs": [],
   "source": [
    "def get_vocabulary(list_of_lists):\n",
    "    flat_list = [word for list_of_words in list_of_lists for word in list_of_words]\n",
    "    flat_list = set(flat_list)\n",
    "    return flat_list\n",
    "\n",
    "vocab = get_vocabulary(lemmatized_series)"
   ]
  },
  {
   "cell_type": "markdown",
   "metadata": {},
   "source": [
    "### BoW "
   ]
  },
  {
   "cell_type": "code",
   "execution_count": 16,
   "metadata": {
    "collapsed": false,
    "scrolled": true
   },
   "outputs": [],
   "source": [
    "from sklearn.feature_extraction.text import CountVectorizer\n",
    "\n",
    "countvec = CountVectorizer(vocabulary=vocab)\n",
    "bow_tweets = countvec.fit_transform(rebuid_tweets)"
   ]
  },
  {
   "cell_type": "markdown",
   "metadata": {},
   "source": [
    "### TF-IDF"
   ]
  },
  {
   "cell_type": "code",
   "execution_count": 24,
   "metadata": {
    "collapsed": true
   },
   "outputs": [],
   "source": [
    "from sklearn.feature_extraction.text import TfidfVectorizer\n",
    "\n",
    "tdidfvec = TfidfVectorizer(vocabulary=vocab)\n",
    "tfidf_tweets = tdidfvec.fit_transform(rebuid_tweets)"
   ]
  },
  {
   "cell_type": "markdown",
   "metadata": {},
   "source": [
    "## BOW Model"
   ]
  },
  {
   "cell_type": "markdown",
   "metadata": {},
   "source": [
    "### Train Model"
   ]
  },
  {
   "cell_type": "code",
   "execution_count": 17,
   "metadata": {
    "collapsed": false
   },
   "outputs": [],
   "source": [
    "from sklearn.model_selection import train_test_split\n",
    "X_train, X_test, y_train, y_test = train_test_split(bow_tweets, tweets.userOrientation, test_size=0.25, random_state=42)"
   ]
  },
  {
   "cell_type": "code",
   "execution_count": 18,
   "metadata": {
    "collapsed": false,
    "scrolled": true
   },
   "outputs": [],
   "source": [
    "from sklearn.model_selection import cross_validate\n",
    "from sklearn.metrics import recall_score\n",
    "from sklearn.tree import DecisionTreeClassifier\n",
    "\n",
    "scoring = ['precision_macro', 'recall_macro', 'f1_macro', 'accuracy']\n",
    "#clf = DecisionTreeClassifier(random_state=0)\n",
    "#scores = cross_validate(clf, X_train, y_train, scoring=scoring, cv=5, return_train_score=False)"
   ]
  },
  {
   "cell_type": "code",
   "execution_count": 23,
   "metadata": {
    "collapsed": false
   },
   "outputs": [
    {
     "data": {
      "text/plain": [
       "{'fit_time': array([ 733.52290297,  697.06924701,  692.05028582,  707.82661796,\n",
       "         797.0581131 ]),\n",
       " 'score_time': array([ 0.30513191,  0.29063916,  0.28825808,  0.29442906,  0.31918406]),\n",
       " 'test_accuracy': array([ 0.73768473,  0.73406259,  0.73217908,  0.72652854,  0.73387915]),\n",
       " 'test_f1_macro': array([ 0.73698303,  0.73310464,  0.73151407,  0.72549015,  0.73314689]),\n",
       " 'test_precision_macro': array([ 0.73765291,  0.73433597,  0.73206616,  0.72681893,  0.73385197]),\n",
       " 'test_recall_macro': array([ 0.73678045,  0.73287383,  0.73133239,  0.72527702,  0.73294563])}"
      ]
     },
     "execution_count": 23,
     "metadata": {},
     "output_type": "execute_result"
    }
   ],
   "source": [
    "#scores"
   ]
  },
  {
   "cell_type": "code",
   "execution_count": 26,
   "metadata": {
    "collapsed": false
   },
   "outputs": [
    {
     "data": {
      "text/plain": [
       "DecisionTreeClassifier(class_weight=None, criterion='gini', max_depth=None,\n",
       "            max_features=None, max_leaf_nodes=None,\n",
       "            min_impurity_decrease=0.0, min_impurity_split=None,\n",
       "            min_samples_leaf=1, min_samples_split=2,\n",
       "            min_weight_fraction_leaf=0.0, presort=False, random_state=0,\n",
       "            splitter='best')"
      ]
     },
     "execution_count": 26,
     "metadata": {},
     "output_type": "execute_result"
    }
   ],
   "source": [
    "#clf.fit(X_train, y_train)"
   ]
  },
  {
   "cell_type": "markdown",
   "metadata": {},
   "source": [
    "#### Model persistance"
   ]
  },
  {
   "cell_type": "code",
   "execution_count": 19,
   "metadata": {
    "collapsed": false
   },
   "outputs": [],
   "source": [
    "from joblib import dump, load\n",
    "\n",
    "#dump(clf, 'text_orientation_classifier.joblib') \n",
    "clf = load('text_orientation_classifier.joblib')"
   ]
  },
  {
   "cell_type": "markdown",
   "metadata": {},
   "source": [
    "### Test model"
   ]
  },
  {
   "cell_type": "code",
   "execution_count": 20,
   "metadata": {
    "collapsed": false
   },
   "outputs": [],
   "source": [
    "prediction = clf.predict(X_test)"
   ]
  },
  {
   "cell_type": "code",
   "execution_count": 21,
   "metadata": {
    "collapsed": false
   },
   "outputs": [
    {
     "name": "stdout",
     "output_type": "stream",
     "text": [
      "             precision    recall  f1-score   support\n",
      "\n",
      "       left       0.73      0.77      0.75     11936\n",
      "      right       0.74      0.69      0.71     11070\n",
      "\n",
      "avg / total       0.73      0.73      0.73     23006\n",
      "\n"
     ]
    }
   ],
   "source": [
    "from sklearn.metrics import classification_report\n",
    "\n",
    "names = ['left', 'right']\n",
    "\n",
    "print(classification_report(y_test, prediction, names))\n"
   ]
  },
  {
   "cell_type": "markdown",
   "metadata": {},
   "source": [
    "### Get most important features"
   ]
  },
  {
   "cell_type": "code",
   "execution_count": 22,
   "metadata": {
    "collapsed": false
   },
   "outputs": [],
   "source": [
    "feature_importance = pd.DataFrame({'features' : list(vocab), 'importances' : clf.feature_importances_})"
   ]
  },
  {
   "cell_type": "code",
   "execution_count": 23,
   "metadata": {
    "collapsed": false,
    "scrolled": true
   },
   "outputs": [
    {
     "data": {
      "text/html": [
       "<div>\n",
       "<table border=\"1\" class=\"dataframe\">\n",
       "  <thead>\n",
       "    <tr style=\"text-align: right;\">\n",
       "      <th></th>\n",
       "      <th>features</th>\n",
       "      <th>importances</th>\n",
       "    </tr>\n",
       "  </thead>\n",
       "  <tbody>\n",
       "    <tr>\n",
       "      <th>584981</th>\n",
       "      <td>massa_eram_muito</td>\n",
       "      <td>2.288186e-02</td>\n",
       "    </tr>\n",
       "    <tr>\n",
       "      <th>1180255</th>\n",
       "      <td>desigualdade_no_campo</td>\n",
       "      <td>2.117141e-02</td>\n",
       "    </tr>\n",
       "    <tr>\n",
       "      <th>1692626</th>\n",
       "      <td>https://t.co/fwpvkfwr8x</td>\n",
       "      <td>1.720845e-02</td>\n",
       "    </tr>\n",
       "    <tr>\n",
       "      <th>1060880</th>\n",
       "      <td>de_deputada_q</td>\n",
       "      <td>1.619341e-02</td>\n",
       "    </tr>\n",
       "    <tr>\n",
       "      <th>432634</th>\n",
       "      <td>falhas_graf</td>\n",
       "      <td>1.079291e-02</td>\n",
       "    </tr>\n",
       "    <tr>\n",
       "      <th>1423923</th>\n",
       "      <td>que_a_explicação</td>\n",
       "      <td>9.872618e-03</td>\n",
       "    </tr>\n",
       "    <tr>\n",
       "      <th>1183943</th>\n",
       "      <td>como_terroristas_e</td>\n",
       "      <td>9.786409e-03</td>\n",
       "    </tr>\n",
       "    <tr>\n",
       "      <th>512564</th>\n",
       "      <td>já_tinha_avisado</td>\n",
       "      <td>9.686603e-03</td>\n",
       "    </tr>\n",
       "    <tr>\n",
       "      <th>713265</th>\n",
       "      <td>corinthian_e_flamengo</td>\n",
       "      <td>9.096106e-03</td>\n",
       "    </tr>\n",
       "    <tr>\n",
       "      <th>1950459</th>\n",
       "      <td>são_opções</td>\n",
       "      <td>8.533979e-03</td>\n",
       "    </tr>\n",
       "    <tr>\n",
       "      <th>1367044</th>\n",
       "      <td>17/08_:_https://t.co/iaccnxl9g7</td>\n",
       "      <td>8.079527e-03</td>\n",
       "    </tr>\n",
       "    <tr>\n",
       "      <th>687076</th>\n",
       "      <td>válidos_._a</td>\n",
       "      <td>7.648136e-03</td>\n",
       "    </tr>\n",
       "    <tr>\n",
       "      <th>1917667</th>\n",
       "      <td>marmanjo_de</td>\n",
       "      <td>7.100883e-03</td>\n",
       "    </tr>\n",
       "    <tr>\n",
       "      <th>521864</th>\n",
       "      <td>já_registrou_seu</td>\n",
       "      <td>6.466670e-03</td>\n",
       "    </tr>\n",
       "    <tr>\n",
       "      <th>516207</th>\n",
       "      <td>autora_:_https://t.co/oeyahv9yky</td>\n",
       "      <td>6.453528e-03</td>\n",
       "    </tr>\n",
       "    <tr>\n",
       "      <th>1222087</th>\n",
       "      <td>https://t.co/ldw1k8wciq_👉_🏻</td>\n",
       "      <td>6.186252e-03</td>\n",
       "    </tr>\n",
       "    <tr>\n",
       "      <th>400767</th>\n",
       "      <td>canalha_nessas</td>\n",
       "      <td>6.093129e-03</td>\n",
       "    </tr>\n",
       "    <tr>\n",
       "      <th>1610010</th>\n",
       "      <td>rt_@snapbolsonaro_:</td>\n",
       "      <td>5.778228e-03</td>\n",
       "    </tr>\n",
       "    <tr>\n",
       "      <th>1188234</th>\n",
       "      <td>com_@haddad_fernando_em</td>\n",
       "      <td>5.403376e-03</td>\n",
       "    </tr>\n",
       "    <tr>\n",
       "      <th>1256775</th>\n",
       "      <td>:_foi_um</td>\n",
       "      <td>5.223727e-03</td>\n",
       "    </tr>\n",
       "    <tr>\n",
       "      <th>1592090</th>\n",
       "      <td>infante</td>\n",
       "      <td>5.094948e-03</td>\n",
       "    </tr>\n",
       "    <tr>\n",
       "      <th>790241</th>\n",
       "      <td>@portalctb_:_#ctbriodejaneiro</td>\n",
       "      <td>4.885328e-03</td>\n",
       "    </tr>\n",
       "    <tr>\n",
       "      <th>1230001</th>\n",
       "      <td>compartilhe_._curta</td>\n",
       "      <td>4.675609e-03</td>\n",
       "    </tr>\n",
       "    <tr>\n",
       "      <th>477830</th>\n",
       "      <td>dia_._pense</td>\n",
       "      <td>4.362294e-03</td>\n",
       "    </tr>\n",
       "    <tr>\n",
       "      <th>455484</th>\n",
       "      <td>..._é_engraçado</td>\n",
       "      <td>4.201755e-03</td>\n",
       "    </tr>\n",
       "    <tr>\n",
       "      <th>1781012</th>\n",
       "      <td>mcm_,_cláudio</td>\n",
       "      <td>3.848494e-03</td>\n",
       "    </tr>\n",
       "    <tr>\n",
       "      <th>1548018</th>\n",
       "      <td>libera</td>\n",
       "      <td>3.770154e-03</td>\n",
       "    </tr>\n",
       "    <tr>\n",
       "      <th>1185511</th>\n",
       "      <td>@opiniaoaberta_@pablito_…</td>\n",
       "      <td>3.704998e-03</td>\n",
       "    </tr>\n",
       "    <tr>\n",
       "      <th>544894</th>\n",
       "      <td>decidir_seu_voto</td>\n",
       "      <td>3.621183e-03</td>\n",
       "    </tr>\n",
       "    <tr>\n",
       "      <th>1505240</th>\n",
       "      <td>#haddad13_#democracia_#haddadpresidente</td>\n",
       "      <td>3.332317e-03</td>\n",
       "    </tr>\n",
       "    <tr>\n",
       "      <th>...</th>\n",
       "      <td>...</td>\n",
       "      <td>...</td>\n",
       "    </tr>\n",
       "    <tr>\n",
       "      <th>1347853</th>\n",
       "      <td>marginais</td>\n",
       "      <td>7.424180e-08</td>\n",
       "    </tr>\n",
       "    <tr>\n",
       "      <th>1246552</th>\n",
       "      <td>feliciano_que_#queremosbancadalgbt</td>\n",
       "      <td>7.424180e-08</td>\n",
       "    </tr>\n",
       "    <tr>\n",
       "      <th>1536113</th>\n",
       "      <td>um_7x1_...</td>\n",
       "      <td>7.176708e-08</td>\n",
       "    </tr>\n",
       "    <tr>\n",
       "      <th>1478189</th>\n",
       "      <td>queermuseu_arrecada_r</td>\n",
       "      <td>6.482188e-08</td>\n",
       "    </tr>\n",
       "    <tr>\n",
       "      <th>1573632</th>\n",
       "      <td>@ocorvo_</td>\n",
       "      <td>6.482188e-08</td>\n",
       "    </tr>\n",
       "    <tr>\n",
       "      <th>1225110</th>\n",
       "      <td>vou_poupar_esforços</td>\n",
       "      <td>6.230940e-08</td>\n",
       "    </tr>\n",
       "    <tr>\n",
       "      <th>1348590</th>\n",
       "      <td>-_porque_ele</td>\n",
       "      <td>6.077051e-08</td>\n",
       "    </tr>\n",
       "    <tr>\n",
       "      <th>1868317</th>\n",
       "      <td>karla_boughoff_https://t.co/un731clgjx</td>\n",
       "      <td>5.875667e-08</td>\n",
       "    </tr>\n",
       "    <tr>\n",
       "      <th>1353191</th>\n",
       "      <td>parabenizando_o</td>\n",
       "      <td>5.235288e-08</td>\n",
       "    </tr>\n",
       "    <tr>\n",
       "      <th>1962823</th>\n",
       "      <td>no_mensalão_;</td>\n",
       "      <td>5.065911e-08</td>\n",
       "    </tr>\n",
       "    <tr>\n",
       "      <th>1810184</th>\n",
       "      <td>elevar_a_produtividade</td>\n",
       "      <td>4.824678e-08</td>\n",
       "    </tr>\n",
       "    <tr>\n",
       "      <th>1602335</th>\n",
       "      <td>@anapaulagrj_ohhhhhh_!</td>\n",
       "      <td>4.525852e-08</td>\n",
       "    </tr>\n",
       "    <tr>\n",
       "      <th>1016598</th>\n",
       "      <td>ver_._amanda</td>\n",
       "      <td>4.067770e-08</td>\n",
       "    </tr>\n",
       "    <tr>\n",
       "      <th>654250</th>\n",
       "      <td>dilma_é_só</td>\n",
       "      <td>3.864381e-08</td>\n",
       "    </tr>\n",
       "    <tr>\n",
       "      <th>1364974</th>\n",
       "      <td>acaba_de_lançar</td>\n",
       "      <td>3.712090e-08</td>\n",
       "    </tr>\n",
       "    <tr>\n",
       "      <th>1726003</th>\n",
       "      <td>“_canalhas</td>\n",
       "      <td>3.675875e-08</td>\n",
       "    </tr>\n",
       "    <tr>\n",
       "      <th>1588988</th>\n",
       "      <td>news_consulta_são</td>\n",
       "      <td>3.500833e-08</td>\n",
       "    </tr>\n",
       "    <tr>\n",
       "      <th>1946350</th>\n",
       "      <td>não_a_do</td>\n",
       "      <td>3.186276e-08</td>\n",
       "    </tr>\n",
       "    <tr>\n",
       "      <th>1966014</th>\n",
       "      <td>no_governa_planeja</td>\n",
       "      <td>3.044664e-08</td>\n",
       "    </tr>\n",
       "    <tr>\n",
       "      <th>1355726</th>\n",
       "      <td>general_villasboas_e</td>\n",
       "      <td>2.788360e-08</td>\n",
       "    </tr>\n",
       "    <tr>\n",
       "      <th>1281276</th>\n",
       "      <td>pura_hipocrisia</td>\n",
       "      <td>2.672178e-08</td>\n",
       "    </tr>\n",
       "    <tr>\n",
       "      <th>931725</th>\n",
       "      <td>partir_de_declarações</td>\n",
       "      <td>2.563110e-08</td>\n",
       "    </tr>\n",
       "    <tr>\n",
       "      <th>1411596</th>\n",
       "      <td>fontes</td>\n",
       "      <td>2.460586e-08</td>\n",
       "    </tr>\n",
       "    <tr>\n",
       "      <th>570035</th>\n",
       "      <td>aí_partem_para</td>\n",
       "      <td>2.364092e-08</td>\n",
       "    </tr>\n",
       "    <tr>\n",
       "      <th>1924411</th>\n",
       "      <td>estar_sendo</td>\n",
       "      <td>2.187386e-08</td>\n",
       "    </tr>\n",
       "    <tr>\n",
       "      <th>1308512</th>\n",
       "      <td>vezes_)_que</td>\n",
       "      <td>2.106371e-08</td>\n",
       "    </tr>\n",
       "    <tr>\n",
       "      <th>1156287</th>\n",
       "      <td>https://t.co/gqkbnn7fr6</td>\n",
       "      <td>2.029776e-08</td>\n",
       "    </tr>\n",
       "    <tr>\n",
       "      <th>1343718</th>\n",
       "      <td>🧡_ótima</td>\n",
       "      <td>7.697184e-09</td>\n",
       "    </tr>\n",
       "    <tr>\n",
       "      <th>1944170</th>\n",
       "      <td>é_metido</td>\n",
       "      <td>6.588021e-10</td>\n",
       "    </tr>\n",
       "    <tr>\n",
       "      <th>459820</th>\n",
       "      <td>seus_pares_,</td>\n",
       "      <td>6.544679e-10</td>\n",
       "    </tr>\n",
       "  </tbody>\n",
       "</table>\n",
       "<p>8172 rows × 2 columns</p>\n",
       "</div>"
      ],
      "text/plain": [
       "                                        features   importances\n",
       "584981                          massa_eram_muito  2.288186e-02\n",
       "1180255                    desigualdade_no_campo  2.117141e-02\n",
       "1692626                  https://t.co/fwpvkfwr8x  1.720845e-02\n",
       "1060880                            de_deputada_q  1.619341e-02\n",
       "432634                               falhas_graf  1.079291e-02\n",
       "1423923                         que_a_explicação  9.872618e-03\n",
       "1183943                       como_terroristas_e  9.786409e-03\n",
       "512564                          já_tinha_avisado  9.686603e-03\n",
       "713265                     corinthian_e_flamengo  9.096106e-03\n",
       "1950459                               são_opções  8.533979e-03\n",
       "1367044          17/08_:_https://t.co/iaccnxl9g7  8.079527e-03\n",
       "687076                               válidos_._a  7.648136e-03\n",
       "1917667                              marmanjo_de  7.100883e-03\n",
       "521864                          já_registrou_seu  6.466670e-03\n",
       "516207          autora_:_https://t.co/oeyahv9yky  6.453528e-03\n",
       "1222087              https://t.co/ldw1k8wciq_👉_🏻  6.186252e-03\n",
       "400767                            canalha_nessas  6.093129e-03\n",
       "1610010                      rt_@snapbolsonaro_:  5.778228e-03\n",
       "1188234                  com_@haddad_fernando_em  5.403376e-03\n",
       "1256775                                 :_foi_um  5.223727e-03\n",
       "1592090                                  infante  5.094948e-03\n",
       "790241             @portalctb_:_#ctbriodejaneiro  4.885328e-03\n",
       "1230001                      compartilhe_._curta  4.675609e-03\n",
       "477830                               dia_._pense  4.362294e-03\n",
       "455484                           ..._é_engraçado  4.201755e-03\n",
       "1781012                            mcm_,_cláudio  3.848494e-03\n",
       "1548018                                   libera  3.770154e-03\n",
       "1185511                @opiniaoaberta_@pablito_…  3.704998e-03\n",
       "544894                          decidir_seu_voto  3.621183e-03\n",
       "1505240  #haddad13_#democracia_#haddadpresidente  3.332317e-03\n",
       "...                                          ...           ...\n",
       "1347853                                marginais  7.424180e-08\n",
       "1246552       feliciano_que_#queremosbancadalgbt  7.424180e-08\n",
       "1536113                               um_7x1_...  7.176708e-08\n",
       "1478189                    queermuseu_arrecada_r  6.482188e-08\n",
       "1573632                                 @ocorvo_  6.482188e-08\n",
       "1225110                      vou_poupar_esforços  6.230940e-08\n",
       "1348590                             -_porque_ele  6.077051e-08\n",
       "1868317   karla_boughoff_https://t.co/un731clgjx  5.875667e-08\n",
       "1353191                          parabenizando_o  5.235288e-08\n",
       "1962823                            no_mensalão_;  5.065911e-08\n",
       "1810184                   elevar_a_produtividade  4.824678e-08\n",
       "1602335                   @anapaulagrj_ohhhhhh_!  4.525852e-08\n",
       "1016598                             ver_._amanda  4.067770e-08\n",
       "654250                                dilma_é_só  3.864381e-08\n",
       "1364974                          acaba_de_lançar  3.712090e-08\n",
       "1726003                               “_canalhas  3.675875e-08\n",
       "1588988                        news_consulta_são  3.500833e-08\n",
       "1946350                                 não_a_do  3.186276e-08\n",
       "1966014                       no_governa_planeja  3.044664e-08\n",
       "1355726                     general_villasboas_e  2.788360e-08\n",
       "1281276                          pura_hipocrisia  2.672178e-08\n",
       "931725                     partir_de_declarações  2.563110e-08\n",
       "1411596                                   fontes  2.460586e-08\n",
       "570035                            aí_partem_para  2.364092e-08\n",
       "1924411                              estar_sendo  2.187386e-08\n",
       "1308512                              vezes_)_que  2.106371e-08\n",
       "1156287                  https://t.co/gqkbnn7fr6  2.029776e-08\n",
       "1343718                                  🧡_ótima  7.697184e-09\n",
       "1944170                                 é_metido  6.588021e-10\n",
       "459820                              seus_pares_,  6.544679e-10\n",
       "\n",
       "[8172 rows x 2 columns]"
      ]
     },
     "execution_count": 23,
     "metadata": {},
     "output_type": "execute_result"
    }
   ],
   "source": [
    "feature_importance[feature_importance.importances != 0.0].sort_values(by=['importances'], ascending=False)\n"
   ]
  },
  {
   "cell_type": "markdown",
   "metadata": {
    "collapsed": true
   },
   "source": [
    "## TF-IDF Model"
   ]
  },
  {
   "cell_type": "markdown",
   "metadata": {},
   "source": [
    "### Train Model"
   ]
  },
  {
   "cell_type": "code",
   "execution_count": 25,
   "metadata": {
    "collapsed": true
   },
   "outputs": [],
   "source": [
    "from sklearn.model_selection import train_test_split\n",
    "X_train, X_test, y_train, y_test = train_test_split(tfidf_tweets, tweets.userOrientation, test_size=0.25, random_state=40)"
   ]
  },
  {
   "cell_type": "code",
   "execution_count": 26,
   "metadata": {
    "collapsed": true
   },
   "outputs": [],
   "source": [
    "from sklearn.model_selection import cross_validate\n",
    "from sklearn.metrics import recall_score\n",
    "from sklearn.tree import DecisionTreeClassifier\n",
    "\n",
    "scoring = ['precision_macro', 'recall_macro', 'f1_macro', 'accuracy']\n",
    "clf_tfidf = DecisionTreeClassifier(random_state=0)\n",
    "#scores = cross_validate(clf, X_train, y_train, scoring=scoring, cv=5, return_train_score=False)"
   ]
  },
  {
   "cell_type": "code",
   "execution_count": null,
   "metadata": {
    "collapsed": true
   },
   "outputs": [],
   "source": [
    "#scores"
   ]
  },
  {
   "cell_type": "code",
   "execution_count": 27,
   "metadata": {
    "collapsed": false
   },
   "outputs": [
    {
     "data": {
      "text/plain": [
       "DecisionTreeClassifier(class_weight=None, criterion='gini', max_depth=None,\n",
       "            max_features=None, max_leaf_nodes=None,\n",
       "            min_impurity_decrease=0.0, min_impurity_split=None,\n",
       "            min_samples_leaf=1, min_samples_split=2,\n",
       "            min_weight_fraction_leaf=0.0, presort=False, random_state=0,\n",
       "            splitter='best')"
      ]
     },
     "execution_count": 27,
     "metadata": {},
     "output_type": "execute_result"
    }
   ],
   "source": [
    "clf_tfidf.fit(X_train, y_train)"
   ]
  },
  {
   "cell_type": "markdown",
   "metadata": {},
   "source": [
    "### Test model"
   ]
  },
  {
   "cell_type": "code",
   "execution_count": 28,
   "metadata": {
    "collapsed": true
   },
   "outputs": [],
   "source": [
    "prediction_tfidf = clf_tfidf.predict(X_test)"
   ]
  },
  {
   "cell_type": "code",
   "execution_count": 29,
   "metadata": {
    "collapsed": false
   },
   "outputs": [
    {
     "name": "stdout",
     "output_type": "stream",
     "text": [
      "             precision    recall  f1-score   support\n",
      "\n",
      "       left       0.71      0.75      0.73     11843\n",
      "      right       0.72      0.68      0.70     11163\n",
      "\n",
      "avg / total       0.72      0.72      0.72     23006\n",
      "\n"
     ]
    }
   ],
   "source": [
    "from sklearn.metrics import classification_report\n",
    "\n",
    "names = ['left', 'right']\n",
    "\n",
    "print(classification_report(y_test, prediction_tfidf, names))\n"
   ]
  },
  {
   "cell_type": "markdown",
   "metadata": {},
   "source": [
    "### Get most important features"
   ]
  },
  {
   "cell_type": "code",
   "execution_count": 30,
   "metadata": {
    "collapsed": true
   },
   "outputs": [],
   "source": [
    "feature_importance_tfidf = pd.DataFrame({'features' : list(vocab), 'importances' : clf_tfidf.feature_importances_})"
   ]
  },
  {
   "cell_type": "code",
   "execution_count": 31,
   "metadata": {
    "collapsed": false,
    "scrolled": true
   },
   "outputs": [
    {
     "data": {
      "text/html": [
       "<div>\n",
       "<table border=\"1\" class=\"dataframe\">\n",
       "  <thead>\n",
       "    <tr style=\"text-align: right;\">\n",
       "      <th></th>\n",
       "      <th>features</th>\n",
       "      <th>importances</th>\n",
       "    </tr>\n",
       "  </thead>\n",
       "  <tbody>\n",
       "    <tr>\n",
       "      <th>584981</th>\n",
       "      <td>massa_eram_muito</td>\n",
       "      <td>3.013738e-02</td>\n",
       "    </tr>\n",
       "    <tr>\n",
       "      <th>1692626</th>\n",
       "      <td>https://t.co/fwpvkfwr8x</td>\n",
       "      <td>2.567748e-02</td>\n",
       "    </tr>\n",
       "    <tr>\n",
       "      <th>1180255</th>\n",
       "      <td>desigualdade_no_campo</td>\n",
       "      <td>2.173929e-02</td>\n",
       "    </tr>\n",
       "    <tr>\n",
       "      <th>1060880</th>\n",
       "      <td>de_deputada_q</td>\n",
       "      <td>1.696789e-02</td>\n",
       "    </tr>\n",
       "    <tr>\n",
       "      <th>516207</th>\n",
       "      <td>autora_:_https://t.co/oeyahv9yky</td>\n",
       "      <td>1.196153e-02</td>\n",
       "    </tr>\n",
       "    <tr>\n",
       "      <th>432634</th>\n",
       "      <td>falhas_graf</td>\n",
       "      <td>1.067703e-02</td>\n",
       "    </tr>\n",
       "    <tr>\n",
       "      <th>1423923</th>\n",
       "      <td>que_a_explicação</td>\n",
       "      <td>1.040226e-02</td>\n",
       "    </tr>\n",
       "    <tr>\n",
       "      <th>1183943</th>\n",
       "      <td>como_terroristas_e</td>\n",
       "      <td>1.037389e-02</td>\n",
       "    </tr>\n",
       "    <tr>\n",
       "      <th>512564</th>\n",
       "      <td>já_tinha_avisado</td>\n",
       "      <td>9.765929e-03</td>\n",
       "    </tr>\n",
       "    <tr>\n",
       "      <th>687076</th>\n",
       "      <td>válidos_._a</td>\n",
       "      <td>9.637421e-03</td>\n",
       "    </tr>\n",
       "    <tr>\n",
       "      <th>713265</th>\n",
       "      <td>corinthian_e_flamengo</td>\n",
       "      <td>9.332700e-03</td>\n",
       "    </tr>\n",
       "    <tr>\n",
       "      <th>400767</th>\n",
       "      <td>canalha_nessas</td>\n",
       "      <td>8.358901e-03</td>\n",
       "    </tr>\n",
       "    <tr>\n",
       "      <th>1917667</th>\n",
       "      <td>marmanjo_de</td>\n",
       "      <td>8.269599e-03</td>\n",
       "    </tr>\n",
       "    <tr>\n",
       "      <th>1950459</th>\n",
       "      <td>são_opções</td>\n",
       "      <td>8.254558e-03</td>\n",
       "    </tr>\n",
       "    <tr>\n",
       "      <th>1367044</th>\n",
       "      <td>17/08_:_https://t.co/iaccnxl9g7</td>\n",
       "      <td>8.111454e-03</td>\n",
       "    </tr>\n",
       "    <tr>\n",
       "      <th>790241</th>\n",
       "      <td>@portalctb_:_#ctbriodejaneiro</td>\n",
       "      <td>7.872622e-03</td>\n",
       "    </tr>\n",
       "    <tr>\n",
       "      <th>1610010</th>\n",
       "      <td>rt_@snapbolsonaro_:</td>\n",
       "      <td>7.117725e-03</td>\n",
       "    </tr>\n",
       "    <tr>\n",
       "      <th>667026</th>\n",
       "      <td>fingiu_metralhar</td>\n",
       "      <td>6.837941e-03</td>\n",
       "    </tr>\n",
       "    <tr>\n",
       "      <th>1222087</th>\n",
       "      <td>https://t.co/ldw1k8wciq_👉_🏻</td>\n",
       "      <td>6.305232e-03</td>\n",
       "    </tr>\n",
       "    <tr>\n",
       "      <th>1592090</th>\n",
       "      <td>infante</td>\n",
       "      <td>6.302818e-03</td>\n",
       "    </tr>\n",
       "    <tr>\n",
       "      <th>1372590</th>\n",
       "      <td>de_oportunistas</td>\n",
       "      <td>5.776301e-03</td>\n",
       "    </tr>\n",
       "    <tr>\n",
       "      <th>1188234</th>\n",
       "      <td>com_@haddad_fernando_em</td>\n",
       "      <td>5.766063e-03</td>\n",
       "    </tr>\n",
       "    <tr>\n",
       "      <th>1230001</th>\n",
       "      <td>compartilhe_._curta</td>\n",
       "      <td>5.714039e-03</td>\n",
       "    </tr>\n",
       "    <tr>\n",
       "      <th>1346091</th>\n",
       "      <td>wink_,_que</td>\n",
       "      <td>5.527008e-03</td>\n",
       "    </tr>\n",
       "    <tr>\n",
       "      <th>521864</th>\n",
       "      <td>já_registrou_seu</td>\n",
       "      <td>5.272696e-03</td>\n",
       "    </tr>\n",
       "    <tr>\n",
       "      <th>1454448</th>\n",
       "      <td>e_contra_.</td>\n",
       "      <td>5.198700e-03</td>\n",
       "    </tr>\n",
       "    <tr>\n",
       "      <th>1548018</th>\n",
       "      <td>libera</td>\n",
       "      <td>4.872537e-03</td>\n",
       "    </tr>\n",
       "    <tr>\n",
       "      <th>1256775</th>\n",
       "      <td>:_foi_um</td>\n",
       "      <td>4.793576e-03</td>\n",
       "    </tr>\n",
       "    <tr>\n",
       "      <th>477830</th>\n",
       "      <td>dia_._pense</td>\n",
       "      <td>4.495731e-03</td>\n",
       "    </tr>\n",
       "    <tr>\n",
       "      <th>590831</th>\n",
       "      <td>colômbia_e</td>\n",
       "      <td>4.439891e-03</td>\n",
       "    </tr>\n",
       "    <tr>\n",
       "      <th>...</th>\n",
       "      <td>...</td>\n",
       "      <td>...</td>\n",
       "    </tr>\n",
       "    <tr>\n",
       "      <th>908206</th>\n",
       "      <td>|_repressão_ao</td>\n",
       "      <td>6.056596e-06</td>\n",
       "    </tr>\n",
       "    <tr>\n",
       "      <th>1966039</th>\n",
       "      <td>ameaça_aos_direitos</td>\n",
       "      <td>6.032891e-06</td>\n",
       "    </tr>\n",
       "    <tr>\n",
       "      <th>1484643</th>\n",
       "      <td>sem_bolsonaro_e</td>\n",
       "      <td>6.009325e-06</td>\n",
       "    </tr>\n",
       "    <tr>\n",
       "      <th>1184498</th>\n",
       "      <td>que_país_,</td>\n",
       "      <td>5.962605e-06</td>\n",
       "    </tr>\n",
       "    <tr>\n",
       "      <th>754185</th>\n",
       "      <td>no_tiene</td>\n",
       "      <td>5.939450e-06</td>\n",
       "    </tr>\n",
       "    <tr>\n",
       "      <th>420384</th>\n",
       "      <td>convenceu_que</td>\n",
       "      <td>5.916429e-06</td>\n",
       "    </tr>\n",
       "    <tr>\n",
       "      <th>1158296</th>\n",
       "      <td>o_sunitas</td>\n",
       "      <td>5.893541e-06</td>\n",
       "    </tr>\n",
       "    <tr>\n",
       "      <th>565928</th>\n",
       "      <td>!_#partidonov_…</td>\n",
       "      <td>5.870786e-06</td>\n",
       "    </tr>\n",
       "    <tr>\n",
       "      <th>1319299</th>\n",
       "      <td>isto_que_o</td>\n",
       "      <td>5.848163e-06</td>\n",
       "    </tr>\n",
       "    <tr>\n",
       "      <th>907948</th>\n",
       "      <td>,_cerveja_ou</td>\n",
       "      <td>5.825670e-06</td>\n",
       "    </tr>\n",
       "    <tr>\n",
       "      <th>1050148</th>\n",
       "      <td>governo_dilma_junto</td>\n",
       "      <td>5.803306e-06</td>\n",
       "    </tr>\n",
       "    <tr>\n",
       "      <th>1803767</th>\n",
       "      <td>._do_500</td>\n",
       "      <td>5.781071e-06</td>\n",
       "    </tr>\n",
       "    <tr>\n",
       "      <th>1644855</th>\n",
       "      <td>interpretação_de_texto.contudo</td>\n",
       "      <td>5.736983e-06</td>\n",
       "    </tr>\n",
       "    <tr>\n",
       "      <th>1927771</th>\n",
       "      <td>https://t.co/9pwaxl22ry</td>\n",
       "      <td>5.715128e-06</td>\n",
       "    </tr>\n",
       "    <tr>\n",
       "      <th>1205725</th>\n",
       "      <td>bandidos_,_da</td>\n",
       "      <td>5.693397e-06</td>\n",
       "    </tr>\n",
       "    <tr>\n",
       "      <th>1899142</th>\n",
       "      <td>combatendo_ideias</td>\n",
       "      <td>5.650307e-06</td>\n",
       "    </tr>\n",
       "    <tr>\n",
       "      <th>1319441</th>\n",
       "      <td>@anterogreco_.</td>\n",
       "      <td>5.628944e-06</td>\n",
       "    </tr>\n",
       "    <tr>\n",
       "      <th>1203415</th>\n",
       "      <td>forum_de_série</td>\n",
       "      <td>5.607703e-06</td>\n",
       "    </tr>\n",
       "    <tr>\n",
       "      <th>480820</th>\n",
       "      <td>envolvimento_no_esquema</td>\n",
       "      <td>5.586582e-06</td>\n",
       "    </tr>\n",
       "    <tr>\n",
       "      <th>1683704</th>\n",
       "      <td>️_🧡_💛</td>\n",
       "      <td>5.544696e-06</td>\n",
       "    </tr>\n",
       "    <tr>\n",
       "      <th>1465293</th>\n",
       "      <td>https://t.co/c83qqvudtx</td>\n",
       "      <td>5.523929e-06</td>\n",
       "    </tr>\n",
       "    <tr>\n",
       "      <th>1290621</th>\n",
       "      <td>dão_entre</td>\n",
       "      <td>5.503279e-06</td>\n",
       "    </tr>\n",
       "    <tr>\n",
       "      <th>511791</th>\n",
       "      <td>conclave_.</td>\n",
       "      <td>5.482744e-06</td>\n",
       "    </tr>\n",
       "    <tr>\n",
       "      <th>445770</th>\n",
       "      <td>liderança_!_faltam</td>\n",
       "      <td>5.462324e-06</td>\n",
       "    </tr>\n",
       "    <tr>\n",
       "      <th>1777499</th>\n",
       "      <td>apropriados</td>\n",
       "      <td>5.442018e-06</td>\n",
       "    </tr>\n",
       "    <tr>\n",
       "      <th>510216</th>\n",
       "      <td>da_de_cmt</td>\n",
       "      <td>2.021825e-06</td>\n",
       "    </tr>\n",
       "    <tr>\n",
       "      <th>1547909</th>\n",
       "      <td>te_levou_a</td>\n",
       "      <td>1.294898e-06</td>\n",
       "    </tr>\n",
       "    <tr>\n",
       "      <th>1498863</th>\n",
       "      <td>de_itararé_:</td>\n",
       "      <td>1.281785e-06</td>\n",
       "    </tr>\n",
       "    <tr>\n",
       "      <th>1921789</th>\n",
       "      <td>daqueles_que_preveem</td>\n",
       "      <td>3.952737e-08</td>\n",
       "    </tr>\n",
       "    <tr>\n",
       "      <th>421090</th>\n",
       "      <td>._só_quero</td>\n",
       "      <td>6.734030e-21</td>\n",
       "    </tr>\n",
       "  </tbody>\n",
       "</table>\n",
       "<p>5514 rows × 2 columns</p>\n",
       "</div>"
      ],
      "text/plain": [
       "                                 features   importances\n",
       "584981                   massa_eram_muito  3.013738e-02\n",
       "1692626           https://t.co/fwpvkfwr8x  2.567748e-02\n",
       "1180255             desigualdade_no_campo  2.173929e-02\n",
       "1060880                     de_deputada_q  1.696789e-02\n",
       "516207   autora_:_https://t.co/oeyahv9yky  1.196153e-02\n",
       "432634                        falhas_graf  1.067703e-02\n",
       "1423923                  que_a_explicação  1.040226e-02\n",
       "1183943                como_terroristas_e  1.037389e-02\n",
       "512564                   já_tinha_avisado  9.765929e-03\n",
       "687076                        válidos_._a  9.637421e-03\n",
       "713265              corinthian_e_flamengo  9.332700e-03\n",
       "400767                     canalha_nessas  8.358901e-03\n",
       "1917667                       marmanjo_de  8.269599e-03\n",
       "1950459                        são_opções  8.254558e-03\n",
       "1367044   17/08_:_https://t.co/iaccnxl9g7  8.111454e-03\n",
       "790241      @portalctb_:_#ctbriodejaneiro  7.872622e-03\n",
       "1610010               rt_@snapbolsonaro_:  7.117725e-03\n",
       "667026                   fingiu_metralhar  6.837941e-03\n",
       "1222087       https://t.co/ldw1k8wciq_👉_🏻  6.305232e-03\n",
       "1592090                           infante  6.302818e-03\n",
       "1372590                   de_oportunistas  5.776301e-03\n",
       "1188234           com_@haddad_fernando_em  5.766063e-03\n",
       "1230001               compartilhe_._curta  5.714039e-03\n",
       "1346091                        wink_,_que  5.527008e-03\n",
       "521864                   já_registrou_seu  5.272696e-03\n",
       "1454448                        e_contra_.  5.198700e-03\n",
       "1548018                            libera  4.872537e-03\n",
       "1256775                          :_foi_um  4.793576e-03\n",
       "477830                        dia_._pense  4.495731e-03\n",
       "590831                         colômbia_e  4.439891e-03\n",
       "...                                   ...           ...\n",
       "908206                     |_repressão_ao  6.056596e-06\n",
       "1966039               ameaça_aos_direitos  6.032891e-06\n",
       "1484643                   sem_bolsonaro_e  6.009325e-06\n",
       "1184498                        que_país_,  5.962605e-06\n",
       "754185                           no_tiene  5.939450e-06\n",
       "420384                      convenceu_que  5.916429e-06\n",
       "1158296                         o_sunitas  5.893541e-06\n",
       "565928                    !_#partidonov_…  5.870786e-06\n",
       "1319299                        isto_que_o  5.848163e-06\n",
       "907948                       ,_cerveja_ou  5.825670e-06\n",
       "1050148               governo_dilma_junto  5.803306e-06\n",
       "1803767                          ._do_500  5.781071e-06\n",
       "1644855    interpretação_de_texto.contudo  5.736983e-06\n",
       "1927771           https://t.co/9pwaxl22ry  5.715128e-06\n",
       "1205725                     bandidos_,_da  5.693397e-06\n",
       "1899142                 combatendo_ideias  5.650307e-06\n",
       "1319441                    @anterogreco_.  5.628944e-06\n",
       "1203415                    forum_de_série  5.607703e-06\n",
       "480820            envolvimento_no_esquema  5.586582e-06\n",
       "1683704                             ️_🧡_💛  5.544696e-06\n",
       "1465293           https://t.co/c83qqvudtx  5.523929e-06\n",
       "1290621                         dão_entre  5.503279e-06\n",
       "511791                         conclave_.  5.482744e-06\n",
       "445770                 liderança_!_faltam  5.462324e-06\n",
       "1777499                       apropriados  5.442018e-06\n",
       "510216                          da_de_cmt  2.021825e-06\n",
       "1547909                        te_levou_a  1.294898e-06\n",
       "1498863                      de_itararé_:  1.281785e-06\n",
       "1921789              daqueles_que_preveem  3.952737e-08\n",
       "421090                         ._só_quero  6.734030e-21\n",
       "\n",
       "[5514 rows x 2 columns]"
      ]
     },
     "execution_count": 31,
     "metadata": {},
     "output_type": "execute_result"
    }
   ],
   "source": [
    "feature_importance_tfidf[feature_importance_tfidf.importances != 0.0].sort_values(by=['importances'], ascending=False)"
   ]
  },
  {
   "cell_type": "markdown",
   "metadata": {},
   "source": [
    "### Paper implementation - What Drives Media Slant?"
   ]
  },
  {
   "cell_type": "code",
   "execution_count": 56,
   "metadata": {
    "collapsed": false,
    "scrolled": false
   },
   "outputs": [],
   "source": [
    "phrases_orientation = pd.DataFrame({'features' : lemmatized_series, 'orientation' : tweets.userOrientation})"
   ]
  },
  {
   "cell_type": "code",
   "execution_count": 81,
   "metadata": {
    "collapsed": false,
    "scrolled": true
   },
   "outputs": [],
   "source": [
    "def reshape_dataframe(row):\n",
    "    return pd.DataFrame({'word':row['features'], 'orientation':row['orientation']})\n",
    "\n",
    "list_of_words_orientation = []\n",
    "for index, row in phrases_orientation.iterrows():\n",
    "    new_rows = reshape_dataframe(row)\n",
    "    list_of_words_orientation.append(new_rows)"
   ]
  },
  {
   "cell_type": "code",
   "execution_count": 117,
   "metadata": {
    "collapsed": false
   },
   "outputs": [],
   "source": [
    "words_orientation = pd.concat(list_of_words_orientation)"
   ]
  },
  {
   "cell_type": "markdown",
   "metadata": {},
   "source": [
    "#### Phrase lenght"
   ]
  },
  {
   "cell_type": "code",
   "execution_count": 118,
   "metadata": {
    "collapsed": false
   },
   "outputs": [],
   "source": [
    "phrases_length = [string.count('_')+1 for string in words_orientation.word]"
   ]
  },
  {
   "cell_type": "code",
   "execution_count": 119,
   "metadata": {
    "collapsed": false,
    "scrolled": true
   },
   "outputs": [],
   "source": [
    "words_orientation['length'] = phrases_length"
   ]
  },
  {
   "cell_type": "markdown",
   "metadata": {},
   "source": [
    "#### Pearson Statistic for every phrase"
   ]
  },
  {
   "cell_type": "markdown",
   "metadata": {},
   "source": [
    "#### Legend:\n",
    "\n",
    "p = phrase\n",
    "\n",
    "l = length of phrase p\n",
    "\n",
    "o = orientation\n",
    "\n",
    "e = tweeted by a left-wing supporter\n",
    "\n",
    "d = tweeted by a right-wing supporter\n",
    "\n",
    "Ex:\n",
    "Fple = frequency of a l-length phrase wrote by an profile biased towards the left-wing\n",
    "\n",
    "fnple = frequency of l-length phrases except of p, wrote by an profile biased towards the left-wing\n"
   ]
  },
  {
   "cell_type": "code",
   "execution_count": 146,
   "metadata": {
    "collapsed": false
   },
   "outputs": [],
   "source": [
    "frequency_plo = words_orientation.groupby(words_orientation.columns.tolist(), as_index=False).size()\n",
    "frequency_plo = frequency_plo.to_frame(\"frequency\").reset_index()"
   ]
  },
  {
   "cell_type": "code",
   "execution_count": 149,
   "metadata": {
    "collapsed": false
   },
   "outputs": [],
   "source": [
    "frequency_ple = frequency_plo[frequency_plo.orientation == \"left\"]\n",
    "frequency_pld = frequency_plo[frequency_plo.orientation == \"right\"]"
   ]
  },
  {
   "cell_type": "code",
   "execution_count": 152,
   "metadata": {
    "collapsed": false
   },
   "outputs": [],
   "source": [
    "ple = frequency_ple.word[0]"
   ]
  },
  {
   "cell_type": "code",
   "execution_count": 153,
   "metadata": {
    "collapsed": false
   },
   "outputs": [
    {
     "data": {
      "text/plain": [
       "u'!'"
      ]
     },
     "execution_count": 153,
     "metadata": {},
     "output_type": "execute_result"
    }
   ],
   "source": [
    "ple"
   ]
  }
 ],
 "metadata": {
  "anaconda-cloud": {},
  "kernelspec": {
   "display_name": "Python 3",
   "language": "python",
   "name": "python3"
  },
  "language_info": {
   "codemirror_mode": {
    "name": "ipython",
    "version": 2
   },
   "file_extension": ".py",
   "mimetype": "text/x-python",
   "name": "python",
   "nbconvert_exporter": "python",
   "pygments_lexer": "ipython2",
   "version": "2.7.15"
  }
 },
 "nbformat": 4,
 "nbformat_minor": 1
}
